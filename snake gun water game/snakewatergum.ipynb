{
 "cells": [
  {
   "cell_type": "markdown",
   "id": "f3f637de",
   "metadata": {},
   "source": [
    "# Pseudocode For Snake, Water Gun, Game\n",
    "\n",
    "## Step1: Setting Up Game With Instructions:\n",
    "\n",
    " 1. We can write a welcome message > WELCOME TO SNAKE WATER GUN GAME!\n",
    " 2. We can establish choice of game > s for snake, g for gun, w  for water\n",
    " 3. We can also give instructions to the user > gun kills snake, water douses gun, snake drinks water\n",
    "\n",
    "## Step2: Starting The Loop:\n",
    "\n",
    " 1. Make a while loop and ask user to choose from s, g, w\n",
    " 2. Import random module and let computer choose from s,g,w also\n"
   ]
  },
  {
   "cell_type": "code",
   "execution_count": null,
   "id": "19ca8383",
   "metadata": {},
   "outputs": [
    {
     "name": "stdout",
     "output_type": "stream",
     "text": [
      "🎮 WELCOME TO SNAKE, WATER & GUN GAME!🎮\n",
      "Rules:\n",
      "🐍Snake drinks 💧water -> Snake Wins!\n",
      "🔫Gun kills 🐍snake -> Gun Wins!\n",
      "💧Water douses 🔫gun -> Water Wins!\n",
      "Choose Wisely! : s for snake, g for gun, w for water\n",
      "you chose:  w\n",
      "🤖computer chose:  w\n",
      "😊Its A Tie!\n",
      "you chose:  s\n",
      "🤖computer chose:  g\n",
      "💀computer wins!\n",
      "you chose:  g\n",
      "🤖computer chose:  w\n",
      "💀computer wins!\n",
      "you chose:  s\n",
      "🤖computer chose:  g\n",
      "💀computer wins!\n",
      "you chose:  w\n",
      "🤖computer chose:  w\n",
      "😊Its A Tie!\n",
      "you chose:  w\n",
      "🤖computer chose:  g\n",
      "🏆you win!\n",
      "THANKS FOR PLAYING GOODBYE! 👋\n"
     ]
    }
   ],
   "source": [
    "import random \n",
    "\n",
    "print(\"🎮 WELCOME TO SNAKE, WATER & GUN GAME!🎮\")\n",
    "print(\"Rules:\")\n",
    "print(\"🐍Snake drinks 💧water -> Snake Wins!\")\n",
    "print(\"🔫Gun kills 🐍snake -> Gun Wins!\")\n",
    "print(\"💧Water douses 🔫gun -> Water Wins!\")\n",
    "print(\"Choose Wisely! : s for snake, g for gun, w for water\")\n",
    "\n",
    "computer_choices = [\"s\", \"g\", \"w\"]\n",
    "\n",
    "while True:\n",
    "        user_choice = input(\"choose your move Snake (s) , Gun (g), Water (w)\").lower()\n",
    "        print(\"you chose: \", user_choice)\n",
    "        computer_choice = random.choice(computer_choices)\n",
    "        print(\"🤖computer chose: \", computer_choice)\n",
    "\n",
    "        if (user_choice == computer_choice):\n",
    "            print(\"😊Its A Tie!\")\n",
    "\n",
    "        elif (user_choice == \"s\" and computer_choice == \"w\") or \\\n",
    "             (user_choice == \"g\" and computer_choice == \"s\") or \\\n",
    "            (user_choice == \"w\" and computer_choice == \"g\"):\n",
    "            print(\"🏆you win!\")\n",
    "\n",
    "        elif (user_choice == \"w\" and computer_choice == \"s\") or \\\n",
    "            (user_choice == \"s\" and computer_choice == \"g\") or \\\n",
    "            (user_choice == \"g\" and computer_choice == \"w\"):\n",
    "            print(\"💀computer wins!\")\n",
    "\n",
    "        else: \n",
    "            print(\"🚨invalid choice! choose from s,g,w\")\n",
    "\n",
    "        play_again = input(\"Do you want to play again? (y/n)\").lower()\n",
    "        if play_again == \"n\":\n",
    "            print(\"THANKS FOR PLAYING GOODBYE! 👋\")\n",
    "            break\n",
    "\n"
   ]
  }
 ],
 "metadata": {
  "kernelspec": {
   "display_name": "base",
   "language": "python",
   "name": "python3"
  },
  "language_info": {
   "codemirror_mode": {
    "name": "ipython",
    "version": 3
   },
   "file_extension": ".py",
   "mimetype": "text/x-python",
   "name": "python",
   "nbconvert_exporter": "python",
   "pygments_lexer": "ipython3",
   "version": "3.13.5"
  }
 },
 "nbformat": 4,
 "nbformat_minor": 5
}

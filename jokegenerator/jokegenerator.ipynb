{
 "cells": [
  {
   "cell_type": "markdown",
   "id": "fe7ec010",
   "metadata": {},
   "source": [
    "# Pesudocode For Joke Generator\n",
    "\n",
    " 1. Create a list of jokes\n",
    " 2. Define a function called tell_joke()\n",
    "      - a. Pick a random joke from the list\n",
    "      - b. Print the joke\n",
    "3. In the main program:\n",
    "   - a. Call tell_joke()\n",
    "   - b. Ask user if they want another joke\n",
    "   - c. Repeat until user says 'no'\n",
    "\n"
   ]
  },
  {
   "cell_type": "code",
   "execution_count": 1,
   "id": "fd0a0436",
   "metadata": {},
   "outputs": [
    {
     "name": "stdout",
     "output_type": "stream",
     "text": [
      "WELCOME TO PYTHON JOKES!😋\n",
      "TYPE NEXT FOR ANOTHER JOKE OR TYPE QUIT TO EXIT\n",
      "😂 Bug? That's not a bug, that's a feature.\n",
      "😂 Triumphantly, Beth removed Python 2.7 from her server in 2030. 'Finally!' she said with glee, only to see the announcement for Python 4.4.\n",
      "😂 I went to a street where the houses were numbered 8k, 16k, 32k, 64k, 128k, 256k and 512k. It was a trip down Memory Lane.\n",
      "😂 There are three kinds of people: those who can count and those who can't.\n",
      "😂 My attitude isn't bad. It's in beta.\n",
      "😂 The program is absolutely right; therefore the computer must be wrong.\n",
      "😂 Ubuntu users are apt to get this joke.\n",
      "😂 Computer analyst to programmer: You start coding. I'll go find out what they want.\n",
      "😂 Number of days since I have encountered an off-by-one error: 0.\n",
      "GOODBYE! HOPE YOU HAD SOME FUN!👋\n"
     ]
    }
   ],
   "source": [
    "import pyjokes\n",
    "\n",
    "print(\"WELCOME TO PYTHON JOKES!😋\")\n",
    "print(\"TYPE NEXT FOR ANOTHER JOKE OR TYPE QUIT TO EXIT\")\n",
    "\n",
    "while True:\n",
    "    user = input(\"You: \").lower().strip()\n",
    "\n",
    "    if user == \"quit\":\n",
    "        print(\"GOODBYE! HOPE YOU HAD SOME FUN!👋\")\n",
    "        break\n",
    "    elif user == \"next\":\n",
    "        joke = pyjokes.get_joke()\n",
    "        print(f\"😂 {joke}\")\n",
    "    else:\n",
    "        print(\"type next for a new joke or type quit to exit\")"
   ]
  }
 ],
 "metadata": {
  "kernelspec": {
   "display_name": "myenv",
   "language": "python",
   "name": "python3"
  },
  "language_info": {
   "codemirror_mode": {
    "name": "ipython",
    "version": 3
   },
   "file_extension": ".py",
   "mimetype": "text/x-python",
   "name": "python",
   "nbconvert_exporter": "python",
   "pygments_lexer": "ipython3",
   "version": "3.11.14"
  }
 },
 "nbformat": 4,
 "nbformat_minor": 5
}

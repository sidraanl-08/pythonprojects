{
 "cells": [
  {
   "cell_type": "markdown",
   "id": "f27bfd63",
   "metadata": {},
   "source": [
    "# Pseudocode For Emoji Translator \n",
    "\n",
    "1. first we write a welcome msg\n",
    "\n",
    "2. next we make a dictionary with keys and values \n",
    "\n",
    "3. now we take input from user using input function\n",
    "\n",
    "4. next we will split the string we get from the user \n",
    "\n",
    "5. then we will join the string as per cleaned string we got from splitting\n",
    "\n",
    "6. in the end we will call the variable\n"
   ]
  },
  {
   "cell_type": "code",
   "execution_count": 4,
   "id": "d6e41155",
   "metadata": {},
   "outputs": [
    {
     "name": "stdout",
     "output_type": "stream",
     "text": [
      "Welcome To Emoji Translator!\n",
      "Translated Sentence: \n",
      "im learning 💻 at 🏠\n"
     ]
    }
   ],
   "source": [
    "print(\"Welcome To Emoji Translator!\")\n",
    "\n",
    "emoji_dict = {\n",
    "    \"happy\" :\"😊\",\n",
    "    \"excited\" :\"🥳\",\n",
    "    \"sad\" :\"🙁\",\n",
    "    \"cat\" :\"😺\",\n",
    "    \"dog\" :\"🐕\",\n",
    "    \"cloud\" :\"☁️\",\n",
    "    \"house\" : \"🏠\",\n",
    "    \"mother\" : \"🤱\",\n",
    "    \"python\" : \"💻\"\n",
    "}\n",
    "\n",
    "user_input = input(\"write a sentence!\").lower()\n",
    "words = user_input.split() #splitting will break the sentence into words like \"i\", \"am\" \"happy\"\n",
    "translated_words = [] #to store the words we get after translation\n",
    "\n",
    "for word in words: #for loop is to traverse through each broken word first \"i\", then \"am\", then \"happy\"\n",
    "    if word.lower() in emoji_dict:\n",
    "        translated_words.append(emoji_dict[word.lower()])\n",
    "\n",
    "    else:\n",
    "        translated_words.append(word) #this is for the words that are not in dict above\n",
    "\n",
    "translated_sentence = \" \".join(translated_words)\n",
    "\n",
    "print(\"Translated Sentence: \")\n",
    "print(translated_sentence)"
   ]
  }
 ],
 "metadata": {
  "kernelspec": {
   "display_name": "base",
   "language": "python",
   "name": "python3"
  },
  "language_info": {
   "codemirror_mode": {
    "name": "ipython",
    "version": 3
   },
   "file_extension": ".py",
   "mimetype": "text/x-python",
   "name": "python",
   "nbconvert_exporter": "python",
   "pygments_lexer": "ipython3",
   "version": "3.13.5"
  }
 },
 "nbformat": 4,
 "nbformat_minor": 5
}

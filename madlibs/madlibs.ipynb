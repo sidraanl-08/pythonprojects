{
 "cells": [
  {
   "cell_type": "markdown",
   "id": "ca5a20ac",
   "metadata": {},
   "source": [
    "# Pesudocode For Mad Libs \n",
    "\n",
    "### Define a function with three parameters\n",
    "### Make an f string to pass values from input\n",
    "### Take input from user\n",
    "### Store the function in a variable\n",
    "### Call that variable in the end"
   ]
  },
  {
   "cell_type": "code",
   "execution_count": 2,
   "id": "f5251d81",
   "metadata": {},
   "outputs": [
    {
     "name": "stdout",
     "output_type": "stream",
     "text": [
      "📝Here Is Your Madlibs story: \n",
      "Today I saw a fuzzy dog that decided to walk all day!\n"
     ]
    }
   ],
   "source": [
    "def create_story(noun, adjective, verb):\n",
    "        return (f\"Today I saw a {adjective} {noun} that decided to {verb} all day!\")\n",
    "\n",
    "noun = input(\"Enter a noun: \")\n",
    "adjective = input(\"Enter an adjective: \")\n",
    "verb = input(\"Enter a verb: \")\n",
    "\n",
    "story = create_story(noun, adjective, verb)\n",
    "print(\"📝Here Is Your Madlibs story: \")\n",
    "print(story)"
   ]
  }
 ],
 "metadata": {
  "kernelspec": {
   "display_name": "base",
   "language": "python",
   "name": "python3"
  },
  "language_info": {
   "codemirror_mode": {
    "name": "ipython",
    "version": 3
   },
   "file_extension": ".py",
   "mimetype": "text/x-python",
   "name": "python",
   "nbconvert_exporter": "python",
   "pygments_lexer": "ipython3",
   "version": "3.13.5"
  }
 },
 "nbformat": 4,
 "nbformat_minor": 5
}

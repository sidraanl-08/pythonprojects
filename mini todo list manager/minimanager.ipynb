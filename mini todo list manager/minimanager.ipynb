{
 "cells": [
  {
   "cell_type": "markdown",
   "id": "8501b0cc",
   "metadata": {},
   "source": [
    "# Pseudcode For Mini TO-DO List Manager\n",
    "\n",
    "### Print some welcome msgs\n",
    "### Create an empty list\n",
    "### Define three funcs > add task, remove task\n",
    "### Make a while loop\n",
    "### Use conditionals"
   ]
  },
  {
   "cell_type": "code",
   "execution_count": 3,
   "id": "99168550",
   "metadata": {},
   "outputs": [
    {
     "name": "stdout",
     "output_type": "stream",
     "text": [
      "Hi User! This is Your Mini Manager 😃\n",
      "✅Task Added: learn python\n",
      "✅Task Added: make python projects\n",
      "❌Task Removed: learn python\n",
      "GOODBYE USER! 👋\n"
     ]
    }
   ],
   "source": [
    "print(\"Hi User! This is Your Mini Manager 😃\")\n",
    "\n",
    "tasks = []\n",
    "\n",
    "def add_task(task):\n",
    "    tasks.append(task)\n",
    "    print(f\"✅Task Added: {task}\")\n",
    "\n",
    "def remove_task(task):\n",
    "    if task in tasks:\n",
    "        tasks.remove(task)\n",
    "        print(f\"❌Task Removed: {task}\")\n",
    "    else:\n",
    "        print(\"💀Task Not Found!\")\n",
    "\n",
    "while True:\n",
    "    action = input(\"Choose Action: Add/Remove/Quit Task\").lower()\n",
    "\n",
    "    if action == \"add\":\n",
    "        t = input(\"Enter task to add: \")\n",
    "        add_task(t)\n",
    "\n",
    "    elif action == \"remove\":\n",
    "        t = input(\"Enter task to remove: \")\n",
    "        remove_task(t)\n",
    "\n",
    "    elif action == \"quit\":\n",
    "        print(\"GOODBYE USER! 👋\")\n",
    "        break\n",
    "\n",
    "    else:\n",
    "        print(\"Invalid Input!\")"
   ]
  }
 ],
 "metadata": {
  "kernelspec": {
   "display_name": "base",
   "language": "python",
   "name": "python3"
  },
  "language_info": {
   "codemirror_mode": {
    "name": "ipython",
    "version": 3
   },
   "file_extension": ".py",
   "mimetype": "text/x-python",
   "name": "python",
   "nbconvert_exporter": "python",
   "pygments_lexer": "ipython3",
   "version": "3.13.5"
  }
 },
 "nbformat": 4,
 "nbformat_minor": 5
}

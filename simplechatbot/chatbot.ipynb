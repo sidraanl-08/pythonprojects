{
 "cells": [
  {
   "cell_type": "markdown",
   "id": "97d1fb36",
   "metadata": {},
   "source": [
    "# Pseudocode For Simple Chatbot\n",
    "\n",
    "### Define a function called chatbot\n",
    "### Make a dict of responses for user and chatbot\n",
    "### Make a while loop that loops untill user says bye\n",
    "### Make a boolean flag response_found = False\n",
    "### Change it to True if chatbot finds a response in the dictionary\n",
    "### Call chatbot function in the end"
   ]
  },
  {
   "cell_type": "code",
   "execution_count": 8,
   "id": "9e3c8dd8",
   "metadata": {},
   "outputs": [
    {
     "name": "stdout",
     "output_type": "stream",
     "text": [
      "💭 Chatbot is online! Type 'bye' to exit!\n",
      "chatbot: hi sid!👋\n",
      "chatbot: its showing 12°C! Better wear a jacket tho 🥶\n",
      "chatbot: im doing great, wassup? 😊\n",
      "chatbot: you are my friend🥰\n",
      "chatbot: you have made me with python💻\n",
      "chatbot: bye sid!!!🫡\n"
     ]
    }
   ],
   "source": [
    "def chatbot():\n",
    "    responses = {\n",
    "        \"hi\": \"hi sid!👋\",\n",
    "        \"how r u\": \"im doing great, wassup? 😊\",\n",
    "        \"cold\": \"its showing 12°C! Better wear a jacket tho 🥶\",\n",
    "        \"going outside\": \"sure thing, enjoy! 🛍️\",\n",
    "        \"bye\": \"bye sid!!!🫡\",\n",
    "        \"python\" : \"you have made me with python💻\",\n",
    "        \"friend\" : \"you are my friend🥰\"\n",
    "    }\n",
    "\n",
    "    print(\"💭 Chatbot is online! Type 'bye' to exit!\")\n",
    "\n",
    "    while True:\n",
    "        user_input = input(\"You: \").lower().strip()\n",
    "\n",
    "        if user_input == \"bye\":\n",
    "            print(\"chatbot: bye sid!!!🫡\")\n",
    "            break\n",
    "\n",
    "        response_found = False\n",
    "\n",
    "        # Loop through responses\n",
    "        for key, response in responses.items():\n",
    "            # Check if the input matches the key exactly\n",
    "            if key == user_input:\n",
    "                print(f\"chatbot: {response}\")\n",
    "                response_found = True\n",
    "                break\n",
    "\n",
    "        if not response_found:\n",
    "            print(\"chatbot: What did you say? I don't understand! 😅\")\n",
    "\n",
    "chatbot()\n"
   ]
  }
 ],
 "metadata": {
  "kernelspec": {
   "display_name": "base",
   "language": "python",
   "name": "python3"
  },
  "language_info": {
   "codemirror_mode": {
    "name": "ipython",
    "version": 3
   },
   "file_extension": ".py",
   "mimetype": "text/x-python",
   "name": "python",
   "nbconvert_exporter": "python",
   "pygments_lexer": "ipython3",
   "version": "3.13.5"
  }
 },
 "nbformat": 4,
 "nbformat_minor": 5
}

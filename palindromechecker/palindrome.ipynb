{
 "cells": [
  {
   "cell_type": "markdown",
   "id": "2d989cf2",
   "metadata": {},
   "source": [
    "# Pesudocode For Python Palindrome Checker \n",
    "\n",
    " 1. We print some welcome msg for the user\n",
    " 2. Next we ask for user input\n",
    " 3. Removing spaces between the words and phrases\n",
    " 4. Using conditionals to check if input is a palindrome using string slicing\n"
   ]
  },
  {
   "cell_type": "code",
   "execution_count": 12,
   "id": "f2773627",
   "metadata": {},
   "outputs": [
    {
     "name": "stdout",
     "output_type": "stream",
     "text": [
      "Hi User!👋 Welcome To Palindrome Checker!\n",
      "✅yes it is a palindrome!\n"
     ]
    }
   ],
   "source": [
    "print(\"Hi User!👋 Welcome To Palindrome Checker!\")\n",
    "\n",
    "user_input = input(\"Enter A Word Or Phrase: \").lower()\n",
    "\n",
    "clean_input = user_input.replace(\" \", \"\")\n",
    "\n",
    "if clean_input == clean_input[::-1]:\n",
    "    print(\"✅yes it is a palindrome!\")\n",
    "\n",
    "else:\n",
    "    print(\"❌no its not a palindrome!\")\n"
   ]
  }
 ],
 "metadata": {
  "kernelspec": {
   "display_name": "base",
   "language": "python",
   "name": "python3"
  },
  "language_info": {
   "codemirror_mode": {
    "name": "ipython",
    "version": 3
   },
   "file_extension": ".py",
   "mimetype": "text/x-python",
   "name": "python",
   "nbconvert_exporter": "python",
   "pygments_lexer": "ipython3",
   "version": "3.13.5"
  }
 },
 "nbformat": 4,
 "nbformat_minor": 5
}

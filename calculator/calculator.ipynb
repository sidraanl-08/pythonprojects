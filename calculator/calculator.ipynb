{
 "cells": [
  {
   "cell_type": "markdown",
   "id": "01b031f6",
   "metadata": {},
   "source": [
    "# Pseudocode For Python Calculator\n",
    "\n",
    "\n",
    "### 1. print some initial msgs\n",
    "### 2. ask input for 2 numbers from the user\n",
    "### 3. we can also ask for input for an operation from user\n",
    "### 4. using if elif else ladder for executing ops\n",
    "### 5. using nested conditionals to prevent zero division\n",
    "### 6. printing result"
   ]
  },
  {
   "cell_type": "code",
   "execution_count": 5,
   "id": "2d62c7ca",
   "metadata": {},
   "outputs": [
    {
     "name": "stdout",
     "output_type": "stream",
     "text": [
      "Welcome To Simple Python Calculator!\n",
      "you can perform addition(+), subtraction(-), multiplication(*), division(/)\n",
      "Result 2.0\n"
     ]
    }
   ],
   "source": [
    "print(\"Welcome To Simple Python Calculator!\")\n",
    "print(\"you can perform addition(+), subtraction(-), multiplication(*), division(/)\")\n",
    "\n",
    "numb1 = float(input(\"give first number: \"))\n",
    "numb2 = float(input(\"give second number: \"))\n",
    "\n",
    "operation = input(\"Enter an operation (+), (-), (*), (/)\")\n",
    "\n",
    "if operation == \"+\":\n",
    "    result = numb1+numb2\n",
    "elif operation == \"-\":\n",
    "    result = numb1-numb2\n",
    "elif operation == \"*\":\n",
    "    result = numb1*numb2\n",
    "elif operation == \"/\":\n",
    "    if numb2 !=0:\n",
    "        result = numb1/numb2\n",
    "    else: \n",
    "        result =  \"Error! Division By Zero\" \n",
    "else:\n",
    "    result =  \"Invalid Operation!\" \n",
    "\n",
    "print(\"Result\", result)"
   ]
  }
 ],
 "metadata": {
  "kernelspec": {
   "display_name": "base",
   "language": "python",
   "name": "python3"
  },
  "language_info": {
   "codemirror_mode": {
    "name": "ipython",
    "version": 3
   },
   "file_extension": ".py",
   "mimetype": "text/x-python",
   "name": "python",
   "nbconvert_exporter": "python",
   "pygments_lexer": "ipython3",
   "version": "3.13.5"
  }
 },
 "nbformat": 4,
 "nbformat_minor": 5
}

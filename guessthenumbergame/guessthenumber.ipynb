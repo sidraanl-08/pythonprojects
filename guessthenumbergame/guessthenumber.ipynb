{
 "cells": [
  {
   "cell_type": "code",
   "execution_count": 1,
   "id": "2837d28c",
   "metadata": {},
   "outputs": [
    {
     "name": "stdout",
     "output_type": "stream",
     "text": [
      "----GAME OVER!!!---\n"
     ]
    }
   ],
   "source": [
    "import random \n",
    "\n",
    "#it takes two parameters, min and max \n",
    "#now with every run, it will give a random number between 1 to 100\n",
    "\n",
    "target = random.randint(1, 100)\n",
    "\n",
    "while True:\n",
    "    userInput = (input(\"guess the number? or (Type Q to Quit\"))\n",
    "    \n",
    "    \n",
    "    if userInput.upper() == \"Q\":  # checks before converting\n",
    "        break\n",
    "\n",
    "    userChoice = int(userInput)\n",
    "\n",
    "    if(userChoice == target):\n",
    "        print(\"Success! You guessed Correctly!\")\n",
    "        break\n",
    "    elif(userChoice<target):\n",
    "        print(\"your number is small, take a bigger guess....\")\n",
    "    else:\n",
    "        print(\"your number was too big, take a smaller guess...\")\n",
    "\n",
    "print(\"----GAME OVER!!!---\")"
   ]
  }
 ],
 "metadata": {
  "kernelspec": {
   "display_name": "base",
   "language": "python",
   "name": "python3"
  },
  "language_info": {
   "codemirror_mode": {
    "name": "ipython",
    "version": 3
   },
   "file_extension": ".py",
   "mimetype": "text/x-python",
   "name": "python",
   "nbconvert_exporter": "python",
   "pygments_lexer": "ipython3",
   "version": "3.13.5"
  }
 },
 "nbformat": 4,
 "nbformat_minor": 5
}
